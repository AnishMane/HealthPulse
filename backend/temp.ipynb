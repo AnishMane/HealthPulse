{
 "cells": [
  {
   "cell_type": "code",
   "execution_count": 4,
   "metadata": {},
   "outputs": [],
   "source": [
    "import pandas as pd\n",
    "import io\n",
    "\n",
    "# Load the dataset\n",
    "df = pd.read_csv(\"data/druid_ready.csv\")\n",
    "\n",
    "# Open a text file to save the report\n",
    "with open(\"eda_report.txt\", \"w\", encoding=\"utf-8\") as f:\n",
    "    # Header\n",
    "    f.write(\"Exploratory Data Analysis Report\\n\")\n",
    "    f.write(\"=\" * 40 + \"\\n\\n\")\n",
    "\n",
    "    # First 5 rows\n",
    "    f.write(\"First 5 rows of the dataset:\\n\")\n",
    "    f.write(df.head().to_string() + \"\\n\\n\")\n",
    "\n",
    "    # Dataset Info\n",
    "    f.write(\"Dataset Info:\\n\")\n",
    "    buffer = io.StringIO()\n",
    "    df.info(buf=buffer)\n",
    "    f.write(buffer.getvalue() + \"\\n\")\n",
    "\n",
    "    # Shape\n",
    "    f.write(f\"Dataset contains {df.shape[0]} rows and {df.shape[1]} columns.\\n\\n\")\n",
    "\n",
    "    # Column names\n",
    "    f.write(\"Column names:\\n\")\n",
    "    f.write(\", \".join(df.columns.tolist()) + \"\\n\\n\")\n",
    "\n",
    "    # Unique values\n",
    "    f.write(\"Unique values in each column:\\n\")\n",
    "    for col in df.columns:\n",
    "        unique_vals = df[col].unique()\n",
    "        f.write(f\"{col}: {len(unique_vals)} unique values\\n\")\n",
    "        if len(unique_vals) < 20:\n",
    "            f.write(f\"  Values: {unique_vals}\\n\")\n",
    "    f.write(\"\\n\")\n",
    "\n",
    "    # Summary statistics\n",
    "    f.write(\"Summary statistics for numerical columns:\\n\")\n",
    "    f.write(df.describe().to_string() + \"\\n\\n\")\n",
    "\n",
    "    # Missing values\n",
    "    f.write(\"Missing values in each column:\\n\")\n",
    "    f.write(df.isnull().sum().to_string() + \"\\n\\n\")\n",
    "\n",
    "    # Data types\n",
    "    f.write(\"Data types of each column:\\n\")\n",
    "    f.write(df.dtypes.to_string() + \"\\n\\n\")\n",
    "\n",
    "    # Temperature unit clarification\n",
    "    f.write(\"Note on 'Temp' column:\\n\")\n",
    "    f.write(\"The values in the 'Temp' column appear to be in Kelvin (K), based on the observed range.\\n\")\n",
    "    f.write(\"To convert to Celsius: Temp_C = Temp - 273.15\\n\")\n"
   ]
  },
  {
   "cell_type": "code",
   "execution_count": null,
   "metadata": {},
   "outputs": [],
   "source": []
  }
 ],
 "metadata": {
  "kernelspec": {
   "display_name": "Python 3",
   "language": "python",
   "name": "python3"
  },
  "language_info": {
   "codemirror_mode": {
    "name": "ipython",
    "version": 3
   },
   "file_extension": ".py",
   "mimetype": "text/x-python",
   "name": "python",
   "nbconvert_exporter": "python",
   "pygments_lexer": "ipython3",
   "version": "3.11.9"
  }
 },
 "nbformat": 4,
 "nbformat_minor": 2
}
